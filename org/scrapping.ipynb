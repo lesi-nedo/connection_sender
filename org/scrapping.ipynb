{
 "cells": [
  {
   "cell_type": "markdown",
   "metadata": {},
   "source": [
    "## **Scrapping for org name**"
   ]
  },
  {
   "cell_type": "markdown",
   "metadata": {
    "vscode": {
     "languageId": "plaintext"
    }
   },
   "source": [
    "### Libraries"
   ]
  },
  {
   "cell_type": "code",
   "execution_count": 2,
   "metadata": {},
   "outputs": [],
   "source": [
    "import requests\n",
    "import pandas as pd\n",
    "import time\n",
    "\n",
    "from bs4 import BeautifulSoup\n",
    "from selenium import webdriver\n",
    "from selenium.webdriver.chrome.service import Service\n",
    "from selenium.webdriver.common.by import By\n",
    "from selenium.webdriver.chrome.options import Options\n"
   ]
  },
  {
   "cell_type": "markdown",
   "metadata": {},
   "source": [
    "### Scraping"
   ]
  },
  {
   "cell_type": "code",
   "execution_count": 3,
   "metadata": {},
   "outputs": [
    {
     "name": "stdout",
     "output_type": "stream",
     "text": [
      "No more pages available\n"
     ]
    }
   ],
   "source": [
    "url = \"https://www.topuniversities.com/world-university-rankings\"\n",
    "\n",
    "\n",
    "def send_req_get_dt(url, table_id, pages=-1):\n",
    "    chrome_options = Options()\n",
    "    chrome_options.add_argument(\"--headless\")\n",
    "    chrome_options.add_argument(\"--disable-gpu\")\n",
    "    driver = webdriver.Chrome(options=chrome_options)\n",
    "    rnk_org = {\n",
    "        \"rank\": [],\n",
    "        \"org_name\": [],\n",
    "    }\n",
    "    \n",
    "    try:\n",
    "        driver.get(url)\n",
    "        curr_page = 1\n",
    "        while True:\n",
    "            driver.implicitly_wait(5)\n",
    "\n",
    "            table_div = driver.find_element(By.ID, table_id)\n",
    "            table_html_el = table_div.get_attribute(\"innerHTML\")\n",
    "            soup = BeautifulSoup(table_html_el, \"html.parser\")\n",
    "\n",
    "            ranks = [rank.text.strip().replace(\"=\", \"\") for rank in soup.find_all(\"span\", {\"class\": \"rank-no\"})]\n",
    "            org_names = [org.text.strip() for org in soup.find_all(\"a\", {\"class\": \"uni-link\"})]\n",
    "\n",
    "            rnk_org[\"rank\"].extend(ranks)\n",
    "            rnk_org[\"org_name\"].extend(org_names)\n",
    "\n",
    "            if pages != -1 and curr_page >= pages:\n",
    "                break\n",
    "\n",
    "            try:\n",
    "                next_page = driver.find_element(By.CSS_SELECTOR, \"a.page-link.next\")\n",
    "                next_page.click()\n",
    "                time.sleep(2)\n",
    "                curr_page += 1\n",
    "            except Exception as e:\n",
    "                print(\"No more pages available\")\n",
    "                break\n",
    "    \n",
    "        df = pd.DataFrame(rnk_org)\n",
    "        return df\n",
    "\n",
    "    finally:\n",
    "        driver.quit()\n",
    "df_rnk_org = send_req_get_dt(url, \"ranking-data-load\")"
   ]
  },
  {
   "cell_type": "code",
   "execution_count": 4,
   "metadata": {},
   "outputs": [],
   "source": [
    "import re\n",
    "\n",
    "def remove_parentheses(text):\n",
    "    return re.sub(r'\\s*\\([^)]*\\)', '', text)\n",
    "\n",
    "# Using string operations\n",
    "def remove_parentheses_alt(text):\n",
    "    start = text.find('(')\n",
    "    end = text.find(')')\n",
    "    if start != -1 and end != -1:\n",
    "        return (text[:start] + text[end+1:]).strip()\n",
    "    return text\n",
    "df_rnk_org.drop_duplicates(subset=[\"org_name\"], inplace=True)\n",
    "df_rnk_org = df_rnk_org[df_rnk_org['org_name'].notna()]  # Remove NaN\n",
    "df_rnk_org[\"org_name\"] = df_rnk_org[\"org_name\"].apply(remove_parentheses)\n",
    "df_rnk_org[\"org_name\"] = df_rnk_org[\"org_name\"].apply(remove_parentheses_alt)\n",
    "df_rnk_org[\"org_name\"] = df_rnk_org[\"org_name\"].str.strip()\n",
    "df_rnk_org['org_name'] = df_rnk_org['org_name'].apply(lambda x: x.lower())\n",
    "df_rnk_org = df_rnk_org[df_rnk_org['org_name'].str.strip() != '']  # Remove empty strings\n",
    "df_rnk_org.reset_index(drop=True, inplace=True)\n",
    "df_rnk_org[\"org_name\"] = df_rnk_org[\"org_name\"].str.strip('\"\\'\"')  # Removes both single and double quotes\n",
    "df_rnk_org.reset_index(drop=True, inplace=True)\n",
    "df_rnk_org.to_csv(\"orgs.csv\", index=False)\n"
   ]
  },
  {
   "cell_type": "code",
   "execution_count": 5,
   "metadata": {},
   "outputs": [
    {
     "data": {
      "text/html": [
       "<div>\n",
       "<style scoped>\n",
       "    .dataframe tbody tr th:only-of-type {\n",
       "        vertical-align: middle;\n",
       "    }\n",
       "\n",
       "    .dataframe tbody tr th {\n",
       "        vertical-align: top;\n",
       "    }\n",
       "\n",
       "    .dataframe thead th {\n",
       "        text-align: right;\n",
       "    }\n",
       "</style>\n",
       "<table border=\"1\" class=\"dataframe\">\n",
       "  <thead>\n",
       "    <tr style=\"text-align: right;\">\n",
       "      <th></th>\n",
       "      <th>rank</th>\n",
       "      <th>org_name</th>\n",
       "    </tr>\n",
       "  </thead>\n",
       "  <tbody>\n",
       "    <tr>\n",
       "      <th>1041</th>\n",
       "      <td>1001-1200</td>\n",
       "      <td>indiana university–purdue university indianapolis</td>\n",
       "    </tr>\n",
       "    <tr>\n",
       "      <th>743</th>\n",
       "      <td>741-750</td>\n",
       "      <td>university of central florida</td>\n",
       "    </tr>\n",
       "    <tr>\n",
       "      <th>396</th>\n",
       "      <td>396</td>\n",
       "      <td>university of southern queensland</td>\n",
       "    </tr>\n",
       "    <tr>\n",
       "      <th>834</th>\n",
       "      <td>801-850</td>\n",
       "      <td>university of baghdad</td>\n",
       "    </tr>\n",
       "    <tr>\n",
       "      <th>536</th>\n",
       "      <td>535</td>\n",
       "      <td>university of eastern finland</td>\n",
       "    </tr>\n",
       "  </tbody>\n",
       "</table>\n",
       "</div>"
      ],
      "text/plain": [
       "           rank                                           org_name\n",
       "1041  1001-1200  indiana university–purdue university indianapolis\n",
       "743     741-750                      university of central florida\n",
       "396         396                  university of southern queensland\n",
       "834     801-850                              university of baghdad\n",
       "536         535                      university of eastern finland"
      ]
     },
     "execution_count": 5,
     "metadata": {},
     "output_type": "execute_result"
    }
   ],
   "source": [
    "df_rnk_org.sample(5)"
   ]
  }
 ],
 "metadata": {
  "kernelspec": {
   "display_name": "linkedin",
   "language": "python",
   "name": "python3"
  },
  "language_info": {
   "codemirror_mode": {
    "name": "ipython",
    "version": 3
   },
   "file_extension": ".py",
   "mimetype": "text/x-python",
   "name": "python",
   "nbconvert_exporter": "python",
   "pygments_lexer": "ipython3",
   "version": "3.13.1"
  }
 },
 "nbformat": 4,
 "nbformat_minor": 2
}
