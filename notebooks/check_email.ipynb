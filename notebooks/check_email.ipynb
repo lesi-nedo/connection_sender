{
 "cells": [
  {
   "cell_type": "code",
   "execution_count": 9,
   "metadata": {},
   "outputs": [
    {
     "data": {
      "text/plain": [
       "True"
      ]
     },
     "execution_count": 9,
     "metadata": {},
     "output_type": "execute_result"
    }
   ],
   "source": [
    "import os\n",
    "import sys\n",
    "\n",
    "notebook_dir = os.getcwd()\n",
    "sys.path.append(os.path.join(os.path.dirname(notebook_dir), '..'))\n",
    "\n",
    "from dotenv import load_dotenv\n",
    "\n",
    "import smtplib\n",
    "from email.mime.text import MIMEText\n",
    "\n",
    "load_dotenv()"
   ]
  },
  {
   "cell_type": "code",
   "execution_count": 11,
   "metadata": {},
   "outputs": [
    {
     "data": {
      "text/plain": [
       "'oleksiy12345@live.it'"
      ]
     },
     "execution_count": 11,
     "metadata": {},
     "output_type": "execute_result"
    }
   ],
   "source": [
    "os.getenv(\"RECEIVER\")"
   ]
  },
  {
   "cell_type": "code",
   "execution_count": null,
   "metadata": {},
   "outputs": [
    {
     "name": "stdout",
     "output_type": "stream",
     "text": [
      "Message sent!\n"
     ]
    }
   ],
   "source": [
    "subject = \"Email Subject\"\n",
    "body = \"This is the body of the text message\"\n",
    "sender = os.getenv(\"SENDER\")\n",
    "recipients = [os.getenv(\"RECEIVER\")]\n",
    "password = os.getenv(\"SENDER_PASS\")\n",
    "\n",
    "\n",
    "def send_email(subject, body, sender, recipients, password):\n",
    "    msg = MIMEText(body)\n",
    "    msg['Subject'] = subject\n",
    "    msg['From'] = sender\n",
    "    msg['To'] = ', '.join(recipients)\n",
    "    with smtplib.SMTP_SSL('smtp.gmail.com', 465) as smtp_server:\n",
    "       smtp_server.login(sender, password)\n",
    "       smtp_server.sendmail(sender, recipients, msg.as_string())\n",
    "    print(\"Message sent!\")\n",
    "\n",
    "\n",
    "send_email(subject, body, sender, recipients, password)"
   ]
  }
 ],
 "metadata": {
  "kernelspec": {
   "display_name": "linkedin",
   "language": "python",
   "name": "python3"
  },
  "language_info": {
   "codemirror_mode": {
    "name": "ipython",
    "version": 3
   },
   "file_extension": ".py",
   "mimetype": "text/x-python",
   "name": "python",
   "nbconvert_exporter": "python",
   "pygments_lexer": "ipython3",
   "version": "3.13.1"
  }
 },
 "nbformat": 4,
 "nbformat_minor": 2
}
